{
  "cells": [
    {
      "cell_type": "markdown",
      "id": "a02285e6",
      "metadata": {
        "id": "a02285e6"
      },
      "source": [
        "# Starter Notebook"
      ]
    },
    {
      "cell_type": "code",
      "execution_count": null,
      "id": "cca64f38-d8d2-4313-8295-fbbd43c2a263",
      "metadata": {
        "execution": {
          "iopub.execute_input": "2025-04-18T23:04:14.759431Z",
          "iopub.status.busy": "2025-04-18T23:04:14.758711Z",
          "iopub.status.idle": "2025-04-18T23:04:14.763544Z",
          "shell.execute_reply": "2025-04-18T23:04:14.762849Z",
          "shell.execute_reply.started": "2025-04-18T23:04:14.759405Z"
        },
        "id": "cca64f38-d8d2-4313-8295-fbbd43c2a263"
      },
      "outputs": [],
      "source": [
        "# Importing necessary libraries\n",
        "import os\n",
        "import torch\n",
        "from transformers import RobertaModel, RobertaTokenizer, TrainingArguments, Trainer, DataCollatorWithPadding, RobertaForSequenceClassification\n",
        "from peft import LoraConfig, get_peft_model, PeftModel\n",
        "from datasets import load_dataset, Dataset, ClassLabel\n",
        "import pickle"
      ]
    },
    {
      "cell_type": "code",
      "execution_count": null,
      "id": "a6633f4c-f252-4fe0-97c4-dbaa7ebfdf16",
      "metadata": {
        "execution": {
          "iopub.execute_input": "2025-04-18T23:04:17.580686Z",
          "iopub.status.busy": "2025-04-18T23:04:17.580421Z",
          "iopub.status.idle": "2025-04-18T23:04:17.585171Z",
          "shell.execute_reply": "2025-04-18T23:04:17.584415Z",
          "shell.execute_reply.started": "2025-04-18T23:04:17.580666Z"
        },
        "id": "a6633f4c-f252-4fe0-97c4-dbaa7ebfdf16",
        "outputId": "6bfcd18b-a262-4b65-d8fb-656b5c4692f4"
      },
      "outputs": [
        {
          "name": "stdout",
          "output_type": "stream",
          "text": [
            "Using device: cuda\n"
          ]
        }
      ],
      "source": [
        "device = torch.device(\"cuda\" if torch.cuda.is_available() else \"cpu\")\n",
        "print(f\"Using device: {device}\")"
      ]
    },
    {
      "cell_type": "markdown",
      "id": "59d6e377",
      "metadata": {
        "id": "59d6e377"
      },
      "source": [
        "## Load Tokenizer and Preprocess Data"
      ]
    },
    {
      "cell_type": "code",
      "execution_count": null,
      "id": "21f42747-f551-40a5-a95f-7affb1eba4a3",
      "metadata": {
        "execution": {
          "iopub.execute_input": "2025-04-18T23:04:20.554338Z",
          "iopub.status.busy": "2025-04-18T23:04:20.553713Z",
          "iopub.status.idle": "2025-04-18T23:04:28.538960Z",
          "shell.execute_reply": "2025-04-18T23:04:28.538169Z",
          "shell.execute_reply.started": "2025-04-18T23:04:20.554314Z"
        },
        "id": "21f42747-f551-40a5-a95f-7affb1eba4a3"
      },
      "outputs": [],
      "source": [
        "#Initialise the RoBERTa base model\n",
        "base_model = 'roberta-base'\n",
        "\n",
        "#Load the AGNews dataset using the Hugging Face datasets library\n",
        "dataset = load_dataset('ag_news', split='train')\n",
        "\n",
        "# Load the tokenizer associated with the RoBERTa base model\n",
        "tokenizer = RobertaTokenizer.from_pretrained(base_model)\n",
        "\n",
        "# Define a preprocessing function to tokenize the input text\n",
        "def preprocess(examples):\n",
        "    tokenized = tokenizer(examples['text'], truncation=True, padding=True)\n",
        "    return tokenized\n",
        "\n",
        "# Apply the preprocessing function to the entire dataset using batched processing\n",
        "tokenized_dataset = dataset.map(preprocess, batched=True,  remove_columns=[\"text\"])\n",
        "# Rename the \"label\" column to \"labels\" to match the expected input format for most Hugging Face models\n",
        "tokenized_dataset = tokenized_dataset.rename_column(\"label\", \"labels\")"
      ]
    },
    {
      "cell_type": "code",
      "execution_count": null,
      "id": "9e07f641-bec0-43a6-8c26-510d7642916a",
      "metadata": {
        "colab": {
          "base_uri": "https://localhost:8080/"
        },
        "execution": {
          "iopub.execute_input": "2025-04-18T23:04:31.359118Z",
          "iopub.status.busy": "2025-04-18T23:04:31.358834Z",
          "iopub.status.idle": "2025-04-18T23:04:31.365109Z",
          "shell.execute_reply": "2025-04-18T23:04:31.364251Z",
          "shell.execute_reply.started": "2025-04-18T23:04:31.359096Z"
        },
        "id": "9e07f641-bec0-43a6-8c26-510d7642916a",
        "outputId": "d78c52ff-fa7f-4572-b71d-be4b1ebd89c3"
      },
      "outputs": [
        {
          "name": "stdout",
          "output_type": "stream",
          "text": [
            "number of labels: 4\n",
            "the labels: ['World', 'Sports', 'Business', 'Sci/Tech']\n"
          ]
        }
      ],
      "source": [
        "# Extract the number of classess and their names\n",
        "num_labels = dataset.features['label'].num_classes\n",
        "class_names = dataset.features[\"label\"].names\n",
        "print(f\"number of labels: {num_labels}\")\n",
        "print(f\"the labels: {class_names}\")\n",
        "\n",
        "# Create a mapping from label IDs to label names\n",
        "id2label = {i: label for i, label in enumerate(class_names)}\n",
        "\n",
        "# Pad inputs in a batch to the same length and return PyTorch tensors\n",
        "data_collator = DataCollatorWithPadding(tokenizer=tokenizer, return_tensors=\"pt\")\n"
      ]
    },
    {
      "cell_type": "markdown",
      "id": "c9e24afd",
      "metadata": {
        "id": "c9e24afd"
      },
      "source": [
        "## Load Pre-trained Model\n",
        "Set up config for pretrained model and download it from hugging face"
      ]
    },
    {
      "cell_type": "code",
      "execution_count": null,
      "id": "262a8416-a59c-4ea1-95d9-0b1f81d6094c",
      "metadata": {
        "colab": {
          "base_uri": "https://localhost:8080/"
        },
        "execution": {
          "iopub.execute_input": "2025-04-18T23:04:34.357739Z",
          "iopub.status.busy": "2025-04-18T23:04:34.357181Z",
          "iopub.status.idle": "2025-04-18T23:04:34.601654Z",
          "shell.execute_reply": "2025-04-18T23:04:34.600814Z",
          "shell.execute_reply.started": "2025-04-18T23:04:34.357715Z"
        },
        "id": "262a8416-a59c-4ea1-95d9-0b1f81d6094c",
        "outputId": "446e188f-7a20-4041-aceb-13e7698a3722"
      },
      "outputs": [
        {
          "name": "stderr",
          "output_type": "stream",
          "text": [
            "Some weights of RobertaForSequenceClassification were not initialized from the model checkpoint at roberta-base and are newly initialized: ['classifier.dense.bias', 'classifier.dense.weight', 'classifier.out_proj.bias', 'classifier.out_proj.weight']\n",
            "You should probably TRAIN this model on a down-stream task to be able to use it for predictions and inference.\n"
          ]
        },
        {
          "data": {
            "text/plain": [
              "RobertaForSequenceClassification(\n",
              "  (roberta): RobertaModel(\n",
              "    (embeddings): RobertaEmbeddings(\n",
              "      (word_embeddings): Embedding(50265, 768, padding_idx=1)\n",
              "      (position_embeddings): Embedding(514, 768, padding_idx=1)\n",
              "      (token_type_embeddings): Embedding(1, 768)\n",
              "      (LayerNorm): LayerNorm((768,), eps=1e-05, elementwise_affine=True)\n",
              "      (dropout): Dropout(p=0.1, inplace=False)\n",
              "    )\n",
              "    (encoder): RobertaEncoder(\n",
              "      (layer): ModuleList(\n",
              "        (0-11): 12 x RobertaLayer(\n",
              "          (attention): RobertaAttention(\n",
              "            (self): RobertaSdpaSelfAttention(\n",
              "              (query): Linear(in_features=768, out_features=768, bias=True)\n",
              "              (key): Linear(in_features=768, out_features=768, bias=True)\n",
              "              (value): Linear(in_features=768, out_features=768, bias=True)\n",
              "              (dropout): Dropout(p=0.1, inplace=False)\n",
              "            )\n",
              "            (output): RobertaSelfOutput(\n",
              "              (dense): Linear(in_features=768, out_features=768, bias=True)\n",
              "              (LayerNorm): LayerNorm((768,), eps=1e-05, elementwise_affine=True)\n",
              "              (dropout): Dropout(p=0.1, inplace=False)\n",
              "            )\n",
              "          )\n",
              "          (intermediate): RobertaIntermediate(\n",
              "            (dense): Linear(in_features=768, out_features=3072, bias=True)\n",
              "            (intermediate_act_fn): GELUActivation()\n",
              "          )\n",
              "          (output): RobertaOutput(\n",
              "            (dense): Linear(in_features=3072, out_features=768, bias=True)\n",
              "            (LayerNorm): LayerNorm((768,), eps=1e-05, elementwise_affine=True)\n",
              "            (dropout): Dropout(p=0.1, inplace=False)\n",
              "          )\n",
              "        )\n",
              "      )\n",
              "    )\n",
              "  )\n",
              "  (classifier): RobertaClassificationHead(\n",
              "    (dense): Linear(in_features=768, out_features=768, bias=True)\n",
              "    (dropout): Dropout(p=0.1, inplace=False)\n",
              "    (out_proj): Linear(in_features=768, out_features=4, bias=True)\n",
              "  )\n",
              ")"
            ]
          },
          "execution_count": 31,
          "metadata": {},
          "output_type": "execute_result"
        }
      ],
      "source": [
        "model = RobertaForSequenceClassification.from_pretrained(\n",
        "    base_model,\n",
        "    id2label=id2label)\n",
        "model"
      ]
    },
    {
      "cell_type": "markdown",
      "source": [
        "## Preparing Test and Evaluation Datasets"
      ],
      "metadata": {
        "id": "Cya3L-VYQkte"
      },
      "id": "Cya3L-VYQkte"
    },
    {
      "cell_type": "code",
      "execution_count": null,
      "id": "e7413430-be57-482b-856e-36bd4ba799df",
      "metadata": {
        "execution": {
          "iopub.execute_input": "2025-04-18T23:04:37.645286Z",
          "iopub.status.busy": "2025-04-18T23:04:37.644550Z",
          "iopub.status.idle": "2025-04-18T23:04:37.655244Z",
          "shell.execute_reply": "2025-04-18T23:04:37.654435Z",
          "shell.execute_reply.started": "2025-04-18T23:04:37.645252Z"
        },
        "id": "e7413430-be57-482b-856e-36bd4ba799df"
      },
      "outputs": [],
      "source": [
        "# Split the dataset into training and evaluation sets\n",
        "split_datasets = tokenized_dataset.train_test_split(test_size=640, seed=42)\n",
        "train_dataset = split_datasets['train']\n",
        "eval_dataset = split_datasets['test']"
      ]
    },
    {
      "cell_type": "markdown",
      "source": [
        "## Check Class Distribution in Training Set"
      ],
      "metadata": {
        "id": "MsfJB0M7Qu2R"
      },
      "id": "MsfJB0M7Qu2R"
    },
    {
      "cell_type": "code",
      "execution_count": null,
      "id": "9EYgfGpAzXlL",
      "metadata": {
        "colab": {
          "base_uri": "https://localhost:8080/"
        },
        "execution": {
          "iopub.execute_input": "2025-04-18T23:04:39.204285Z",
          "iopub.status.busy": "2025-04-18T23:04:39.203971Z",
          "iopub.status.idle": "2025-04-18T23:04:39.705455Z",
          "shell.execute_reply": "2025-04-18T23:04:39.704839Z",
          "shell.execute_reply.started": "2025-04-18T23:04:39.204262Z"
        },
        "id": "9EYgfGpAzXlL",
        "outputId": "73a0c4b9-e4ba-4d34-915d-34b6ee418c0b"
      },
      "outputs": [
        {
          "name": "stdout",
          "output_type": "stream",
          "text": [
            "Class distribution in training set:\n",
            "Label 0: 29855 samples (25.01%)\n",
            "Label 1: 29842 samples (25.00%)\n",
            "Label 2: 29847 samples (25.01%)\n",
            "Label 3: 29816 samples (24.98%)\n"
          ]
        }
      ],
      "source": [
        "from collections import Counter\n",
        "\n",
        "# Count the number of samples for each label in the training set\n",
        "label_counts = Counter(train_dataset['labels'])\n",
        "\n",
        "print(\"Class distribution in training set:\")\n",
        "total = sum(label_counts.values())\n",
        "\n",
        "# Print the count and percentage of each label\n",
        "for label, count in sorted(label_counts.items()):\n",
        "    percent = (count / total) * 100\n",
        "    print(f\"Label {label}: {count} samples ({percent:.2f}%)\")\n"
      ]
    },
    {
      "cell_type": "markdown",
      "id": "652452e3",
      "metadata": {
        "id": "652452e3"
      },
      "source": [
        "## Setup LoRA Configuration\n",
        "Setup PEFT config and get peft model for finetuning"
      ]
    },
    {
      "cell_type": "code",
      "execution_count": null,
      "id": "bd0ca0ea-86b8-47f7-8cbf-83da25685876",
      "metadata": {
        "execution": {
          "iopub.execute_input": "2025-04-18T23:04:42.313966Z",
          "iopub.status.busy": "2025-04-18T23:04:42.313606Z",
          "iopub.status.idle": "2025-04-18T23:04:42.318004Z",
          "shell.execute_reply": "2025-04-18T23:04:42.317309Z",
          "shell.execute_reply.started": "2025-04-18T23:04:42.313943Z"
        },
        "id": "bd0ca0ea-86b8-47f7-8cbf-83da25685876"
      },
      "outputs": [],
      "source": [
        "# PEFT Config\n",
        "peft_config = LoraConfig(\n",
        "    r=6, # Rank of the LoRA update matrices\n",
        "    lora_alpha=32, # Scaling factor for the LoRA updates\n",
        "    lora_dropout=0.05, # Dropout applied to LoRA layers\n",
        "    bias = 'none', # Do not train biases\n",
        "    target_modules = ['query','value','key'], # Apply LoRA to these attention submodules\n",
        "    task_type=\"SEQ_CLS\", # Task type: Sequence Classification\n",
        ")"
      ]
    },
    {
      "cell_type": "code",
      "execution_count": null,
      "id": "6ec2739d-76b6-4fde-91c2-0fc49e1884b0",
      "metadata": {
        "colab": {
          "base_uri": "https://localhost:8080/"
        },
        "execution": {
          "iopub.execute_input": "2025-04-18T23:04:44.461494Z",
          "iopub.status.busy": "2025-04-18T23:04:44.461209Z",
          "iopub.status.idle": "2025-04-18T23:04:44.507543Z",
          "shell.execute_reply": "2025-04-18T23:04:44.506872Z",
          "shell.execute_reply.started": "2025-04-18T23:04:44.461472Z"
        },
        "id": "6ec2739d-76b6-4fde-91c2-0fc49e1884b0",
        "outputId": "59639b48-2dfa-429c-de9d-673b0c7fb9b2"
      },
      "outputs": [
        {
          "data": {
            "text/plain": [
              "PeftModelForSequenceClassification(\n",
              "  (base_model): LoraModel(\n",
              "    (model): RobertaForSequenceClassification(\n",
              "      (roberta): RobertaModel(\n",
              "        (embeddings): RobertaEmbeddings(\n",
              "          (word_embeddings): Embedding(50265, 768, padding_idx=1)\n",
              "          (position_embeddings): Embedding(514, 768, padding_idx=1)\n",
              "          (token_type_embeddings): Embedding(1, 768)\n",
              "          (LayerNorm): LayerNorm((768,), eps=1e-05, elementwise_affine=True)\n",
              "          (dropout): Dropout(p=0.1, inplace=False)\n",
              "        )\n",
              "        (encoder): RobertaEncoder(\n",
              "          (layer): ModuleList(\n",
              "            (0-11): 12 x RobertaLayer(\n",
              "              (attention): RobertaAttention(\n",
              "                (self): RobertaSdpaSelfAttention(\n",
              "                  (query): lora.Linear(\n",
              "                    (base_layer): Linear(in_features=768, out_features=768, bias=True)\n",
              "                    (lora_dropout): ModuleDict(\n",
              "                      (default): Dropout(p=0.05, inplace=False)\n",
              "                    )\n",
              "                    (lora_A): ModuleDict(\n",
              "                      (default): Linear(in_features=768, out_features=6, bias=False)\n",
              "                    )\n",
              "                    (lora_B): ModuleDict(\n",
              "                      (default): Linear(in_features=6, out_features=768, bias=False)\n",
              "                    )\n",
              "                    (lora_embedding_A): ParameterDict()\n",
              "                    (lora_embedding_B): ParameterDict()\n",
              "                    (lora_magnitude_vector): ModuleDict()\n",
              "                  )\n",
              "                  (key): lora.Linear(\n",
              "                    (base_layer): Linear(in_features=768, out_features=768, bias=True)\n",
              "                    (lora_dropout): ModuleDict(\n",
              "                      (default): Dropout(p=0.05, inplace=False)\n",
              "                    )\n",
              "                    (lora_A): ModuleDict(\n",
              "                      (default): Linear(in_features=768, out_features=6, bias=False)\n",
              "                    )\n",
              "                    (lora_B): ModuleDict(\n",
              "                      (default): Linear(in_features=6, out_features=768, bias=False)\n",
              "                    )\n",
              "                    (lora_embedding_A): ParameterDict()\n",
              "                    (lora_embedding_B): ParameterDict()\n",
              "                    (lora_magnitude_vector): ModuleDict()\n",
              "                  )\n",
              "                  (value): lora.Linear(\n",
              "                    (base_layer): Linear(in_features=768, out_features=768, bias=True)\n",
              "                    (lora_dropout): ModuleDict(\n",
              "                      (default): Dropout(p=0.05, inplace=False)\n",
              "                    )\n",
              "                    (lora_A): ModuleDict(\n",
              "                      (default): Linear(in_features=768, out_features=6, bias=False)\n",
              "                    )\n",
              "                    (lora_B): ModuleDict(\n",
              "                      (default): Linear(in_features=6, out_features=768, bias=False)\n",
              "                    )\n",
              "                    (lora_embedding_A): ParameterDict()\n",
              "                    (lora_embedding_B): ParameterDict()\n",
              "                    (lora_magnitude_vector): ModuleDict()\n",
              "                  )\n",
              "                  (dropout): Dropout(p=0.1, inplace=False)\n",
              "                )\n",
              "                (output): RobertaSelfOutput(\n",
              "                  (dense): Linear(in_features=768, out_features=768, bias=True)\n",
              "                  (LayerNorm): LayerNorm((768,), eps=1e-05, elementwise_affine=True)\n",
              "                  (dropout): Dropout(p=0.1, inplace=False)\n",
              "                )\n",
              "              )\n",
              "              (intermediate): RobertaIntermediate(\n",
              "                (dense): Linear(in_features=768, out_features=3072, bias=True)\n",
              "                (intermediate_act_fn): GELUActivation()\n",
              "              )\n",
              "              (output): RobertaOutput(\n",
              "                (dense): Linear(in_features=3072, out_features=768, bias=True)\n",
              "                (LayerNorm): LayerNorm((768,), eps=1e-05, elementwise_affine=True)\n",
              "                (dropout): Dropout(p=0.1, inplace=False)\n",
              "              )\n",
              "            )\n",
              "          )\n",
              "        )\n",
              "      )\n",
              "      (classifier): ModulesToSaveWrapper(\n",
              "        (original_module): RobertaClassificationHead(\n",
              "          (dense): Linear(in_features=768, out_features=768, bias=True)\n",
              "          (dropout): Dropout(p=0.1, inplace=False)\n",
              "          (out_proj): Linear(in_features=768, out_features=4, bias=True)\n",
              "        )\n",
              "        (modules_to_save): ModuleDict(\n",
              "          (default): RobertaClassificationHead(\n",
              "            (dense): Linear(in_features=768, out_features=768, bias=True)\n",
              "            (dropout): Dropout(p=0.1, inplace=False)\n",
              "            (out_proj): Linear(in_features=768, out_features=4, bias=True)\n",
              "          )\n",
              "        )\n",
              "      )\n",
              "    )\n",
              "  )\n",
              ")"
            ]
          },
          "execution_count": 35,
          "metadata": {},
          "output_type": "execute_result"
        }
      ],
      "source": [
        "peft_model = get_peft_model(model, peft_config)\n",
        "peft_model"
      ]
    },
    {
      "cell_type": "code",
      "execution_count": null,
      "id": "a769f54e-05ad-4e3c-aae8-d00d1d9dfb2f",
      "metadata": {
        "colab": {
          "base_uri": "https://localhost:8080/"
        },
        "execution": {
          "iopub.execute_input": "2025-04-18T23:04:48.406308Z",
          "iopub.status.busy": "2025-04-18T23:04:48.406052Z",
          "iopub.status.idle": "2025-04-18T23:04:48.412380Z",
          "shell.execute_reply": "2025-04-18T23:04:48.411704Z",
          "shell.execute_reply.started": "2025-04-18T23:04:48.406287Z"
        },
        "id": "a769f54e-05ad-4e3c-aae8-d00d1d9dfb2f",
        "outputId": "8dfd935f-38ad-4f71-b218-4b742ec0c45d"
      },
      "outputs": [
        {
          "name": "stdout",
          "output_type": "stream",
          "text": [
            "Trainable parameters:\n",
            "base_model.model.roberta.encoder.layer.0.attention.self.query.lora_A.default.weight\n",
            "base_model.model.roberta.encoder.layer.0.attention.self.query.lora_B.default.weight\n",
            "base_model.model.roberta.encoder.layer.0.attention.self.key.lora_A.default.weight\n",
            "base_model.model.roberta.encoder.layer.0.attention.self.key.lora_B.default.weight\n",
            "base_model.model.roberta.encoder.layer.0.attention.self.value.lora_A.default.weight\n",
            "base_model.model.roberta.encoder.layer.0.attention.self.value.lora_B.default.weight\n",
            "base_model.model.roberta.encoder.layer.1.attention.self.query.lora_A.default.weight\n",
            "base_model.model.roberta.encoder.layer.1.attention.self.query.lora_B.default.weight\n",
            "base_model.model.roberta.encoder.layer.1.attention.self.key.lora_A.default.weight\n",
            "base_model.model.roberta.encoder.layer.1.attention.self.key.lora_B.default.weight\n",
            "base_model.model.roberta.encoder.layer.1.attention.self.value.lora_A.default.weight\n",
            "base_model.model.roberta.encoder.layer.1.attention.self.value.lora_B.default.weight\n",
            "base_model.model.roberta.encoder.layer.2.attention.self.query.lora_A.default.weight\n",
            "base_model.model.roberta.encoder.layer.2.attention.self.query.lora_B.default.weight\n",
            "base_model.model.roberta.encoder.layer.2.attention.self.key.lora_A.default.weight\n",
            "base_model.model.roberta.encoder.layer.2.attention.self.key.lora_B.default.weight\n",
            "base_model.model.roberta.encoder.layer.2.attention.self.value.lora_A.default.weight\n",
            "base_model.model.roberta.encoder.layer.2.attention.self.value.lora_B.default.weight\n",
            "base_model.model.roberta.encoder.layer.3.attention.self.query.lora_A.default.weight\n",
            "base_model.model.roberta.encoder.layer.3.attention.self.query.lora_B.default.weight\n",
            "base_model.model.roberta.encoder.layer.3.attention.self.key.lora_A.default.weight\n",
            "base_model.model.roberta.encoder.layer.3.attention.self.key.lora_B.default.weight\n",
            "base_model.model.roberta.encoder.layer.3.attention.self.value.lora_A.default.weight\n",
            "base_model.model.roberta.encoder.layer.3.attention.self.value.lora_B.default.weight\n",
            "base_model.model.roberta.encoder.layer.4.attention.self.query.lora_A.default.weight\n",
            "base_model.model.roberta.encoder.layer.4.attention.self.query.lora_B.default.weight\n",
            "base_model.model.roberta.encoder.layer.4.attention.self.key.lora_A.default.weight\n",
            "base_model.model.roberta.encoder.layer.4.attention.self.key.lora_B.default.weight\n",
            "base_model.model.roberta.encoder.layer.4.attention.self.value.lora_A.default.weight\n",
            "base_model.model.roberta.encoder.layer.4.attention.self.value.lora_B.default.weight\n",
            "base_model.model.roberta.encoder.layer.5.attention.self.query.lora_A.default.weight\n",
            "base_model.model.roberta.encoder.layer.5.attention.self.query.lora_B.default.weight\n",
            "base_model.model.roberta.encoder.layer.5.attention.self.key.lora_A.default.weight\n",
            "base_model.model.roberta.encoder.layer.5.attention.self.key.lora_B.default.weight\n",
            "base_model.model.roberta.encoder.layer.5.attention.self.value.lora_A.default.weight\n",
            "base_model.model.roberta.encoder.layer.5.attention.self.value.lora_B.default.weight\n",
            "base_model.model.roberta.encoder.layer.6.attention.self.query.lora_A.default.weight\n",
            "base_model.model.roberta.encoder.layer.6.attention.self.query.lora_B.default.weight\n",
            "base_model.model.roberta.encoder.layer.6.attention.self.key.lora_A.default.weight\n",
            "base_model.model.roberta.encoder.layer.6.attention.self.key.lora_B.default.weight\n",
            "base_model.model.roberta.encoder.layer.6.attention.self.value.lora_A.default.weight\n",
            "base_model.model.roberta.encoder.layer.6.attention.self.value.lora_B.default.weight\n",
            "base_model.model.roberta.encoder.layer.7.attention.self.query.lora_A.default.weight\n",
            "base_model.model.roberta.encoder.layer.7.attention.self.query.lora_B.default.weight\n",
            "base_model.model.roberta.encoder.layer.7.attention.self.key.lora_A.default.weight\n",
            "base_model.model.roberta.encoder.layer.7.attention.self.key.lora_B.default.weight\n",
            "base_model.model.roberta.encoder.layer.7.attention.self.value.lora_A.default.weight\n",
            "base_model.model.roberta.encoder.layer.7.attention.self.value.lora_B.default.weight\n",
            "base_model.model.roberta.encoder.layer.8.attention.self.query.lora_A.default.weight\n",
            "base_model.model.roberta.encoder.layer.8.attention.self.query.lora_B.default.weight\n",
            "base_model.model.roberta.encoder.layer.8.attention.self.key.lora_A.default.weight\n",
            "base_model.model.roberta.encoder.layer.8.attention.self.key.lora_B.default.weight\n",
            "base_model.model.roberta.encoder.layer.8.attention.self.value.lora_A.default.weight\n",
            "base_model.model.roberta.encoder.layer.8.attention.self.value.lora_B.default.weight\n",
            "base_model.model.roberta.encoder.layer.9.attention.self.query.lora_A.default.weight\n",
            "base_model.model.roberta.encoder.layer.9.attention.self.query.lora_B.default.weight\n",
            "base_model.model.roberta.encoder.layer.9.attention.self.key.lora_A.default.weight\n",
            "base_model.model.roberta.encoder.layer.9.attention.self.key.lora_B.default.weight\n",
            "base_model.model.roberta.encoder.layer.9.attention.self.value.lora_A.default.weight\n",
            "base_model.model.roberta.encoder.layer.9.attention.self.value.lora_B.default.weight\n",
            "base_model.model.roberta.encoder.layer.10.attention.self.query.lora_A.default.weight\n",
            "base_model.model.roberta.encoder.layer.10.attention.self.query.lora_B.default.weight\n",
            "base_model.model.roberta.encoder.layer.10.attention.self.key.lora_A.default.weight\n",
            "base_model.model.roberta.encoder.layer.10.attention.self.key.lora_B.default.weight\n",
            "base_model.model.roberta.encoder.layer.10.attention.self.value.lora_A.default.weight\n",
            "base_model.model.roberta.encoder.layer.10.attention.self.value.lora_B.default.weight\n",
            "base_model.model.roberta.encoder.layer.11.attention.self.query.lora_A.default.weight\n",
            "base_model.model.roberta.encoder.layer.11.attention.self.query.lora_B.default.weight\n",
            "base_model.model.roberta.encoder.layer.11.attention.self.key.lora_A.default.weight\n",
            "base_model.model.roberta.encoder.layer.11.attention.self.key.lora_B.default.weight\n",
            "base_model.model.roberta.encoder.layer.11.attention.self.value.lora_A.default.weight\n",
            "base_model.model.roberta.encoder.layer.11.attention.self.value.lora_B.default.weight\n",
            "base_model.model.classifier.modules_to_save.default.dense.weight\n",
            "base_model.model.classifier.modules_to_save.default.dense.bias\n",
            "base_model.model.classifier.modules_to_save.default.out_proj.weight\n",
            "base_model.model.classifier.modules_to_save.default.out_proj.bias\n"
          ]
        }
      ],
      "source": [
        "#Print the Trainable parameters\n",
        "print(\"Trainable parameters:\")\n",
        "# Looping construct\n",
        "for name, param in peft_model.named_parameters():\n",
        "# Conditional check\n",
        "    if param.requires_grad:\n",
        "        print(name)"
      ]
    },
    {
      "cell_type": "code",
      "execution_count": null,
      "id": "da45f85c-b016-4c49-8808-6eafa7cb5d1b",
      "metadata": {
        "colab": {
          "base_uri": "https://localhost:8080/"
        },
        "execution": {
          "iopub.execute_input": "2025-04-18T23:04:51.752336Z",
          "iopub.status.busy": "2025-04-18T23:04:51.751793Z",
          "iopub.status.idle": "2025-04-18T23:04:51.758273Z",
          "shell.execute_reply": "2025-04-18T23:04:51.757458Z",
          "shell.execute_reply.started": "2025-04-18T23:04:51.752312Z"
        },
        "id": "da45f85c-b016-4c49-8808-6eafa7cb5d1b",
        "outputId": "713c9d18-0cac-4335-c7bd-99ff6d361fef"
      },
      "outputs": [
        {
          "name": "stdout",
          "output_type": "stream",
          "text": [
            "PEFT Model\n",
            "trainable params: 925,444 || all params: 125,574,152 || trainable%: 0.7370\n"
          ]
        }
      ],
      "source": [
        "print('PEFT Model')\n",
        "peft_model.print_trainable_parameters()"
      ]
    },
    {
      "cell_type": "code",
      "execution_count": null,
      "id": "YWK9xD_G1zjX",
      "metadata": {
        "colab": {
          "base_uri": "https://localhost:8080/"
        },
        "execution": {
          "iopub.execute_input": "2025-04-18T23:04:53.777003Z",
          "iopub.status.busy": "2025-04-18T23:04:53.776210Z",
          "iopub.status.idle": "2025-04-18T23:04:54.341958Z",
          "shell.execute_reply": "2025-04-18T23:04:54.341208Z",
          "shell.execute_reply.started": "2025-04-18T23:04:53.776974Z"
        },
        "id": "YWK9xD_G1zjX",
        "outputId": "a0d35aa0-75ea-4d00-ba74-af2394d92626"
      },
      "outputs": [
        {
          "data": {
            "text/plain": [
              "=============================================================================================================================\n",
              "Layer (type:depth-idx)                                                      Output Shape              Param #\n",
              "=============================================================================================================================\n",
              "PeftModelForSequenceClassification                                          [1, 4]                    --\n",
              "├─LoraModel: 1-1                                                            [1, 4]                    --\n",
              "│    └─RobertaForSequenceClassification: 2-1                                --                        --\n",
              "│    │    └─RobertaModel: 3-1                                               [1, 128, 768]             124,386,816\n",
              "│    │    └─ModulesToSaveWrapper: 3-2                                       [1, 4]                    1,187,336\n",
              "=============================================================================================================================\n",
              "Total params: 125,574,152\n",
              "Trainable params: 925,444\n",
              "Non-trainable params: 124,648,708\n",
              "Total mult-adds (Units.MEGABYTES): 124.98\n",
              "=============================================================================================================================\n",
              "Input size (MB): 0.00\n",
              "Forward/backward pass size (MB): 135.49\n",
              "Params size (MB): 499.92\n",
              "Estimated Total Size (MB): 635.42\n",
              "============================================================================================================================="
            ]
          },
          "execution_count": 38,
          "metadata": {},
          "output_type": "execute_result"
        }
      ],
      "source": [
        "from torchinfo import summary\n",
        "summary(peft_model, input_size=(1, 128), dtypes=[torch.int64])"
      ]
    },
    {
      "cell_type": "markdown",
      "id": "12284b58",
      "metadata": {
        "id": "12284b58"
      },
      "source": [
        "## Training Setup"
      ]
    },
    {
      "cell_type": "code",
      "execution_count": null,
      "id": "0ee64c43-fe38-479a-b3c5-7d939a3db4c1",
      "metadata": {
        "execution": {
          "iopub.execute_input": "2025-04-18T23:04:57.709553Z",
          "iopub.status.busy": "2025-04-18T23:04:57.709267Z",
          "iopub.status.idle": "2025-04-18T23:04:57.714536Z",
          "shell.execute_reply": "2025-04-18T23:04:57.713611Z",
          "shell.execute_reply.started": "2025-04-18T23:04:57.709532Z"
        },
        "id": "0ee64c43-fe38-479a-b3c5-7d939a3db4c1"
      },
      "outputs": [],
      "source": [
        "# To track evaluation accuracy during training\n",
        "from sklearn.metrics import accuracy_score, precision_score, recall_score, f1_score\n",
        "\n",
        "def compute_metrics(pred):\n",
        "    labels = pred.label_ids\n",
        "    preds = pred.predictions.argmax(-1)\n",
        "    accuracy = accuracy_score(labels, preds)\n",
        "    return {\n",
        "        'accuracy': accuracy\n",
        "    }"
      ]
    },
    {
      "cell_type": "code",
      "execution_count": null,
      "id": "768b4917-65de-4e55-ae7f-698e287535d4",
      "metadata": {
        "execution": {
          "iopub.execute_input": "2025-04-18T23:05:00.980157Z",
          "iopub.status.busy": "2025-04-18T23:05:00.979849Z",
          "iopub.status.idle": "2025-04-18T23:05:01.023286Z",
          "shell.execute_reply": "2025-04-18T23:05:01.022426Z",
          "shell.execute_reply.started": "2025-04-18T23:05:00.980133Z"
        },
        "id": "768b4917-65de-4e55-ae7f-698e287535d4"
      },
      "outputs": [],
      "source": [
        "# Setup Training args\n",
        "from transformers import TrainingArguments\n",
        "\n",
        "training_args = TrainingArguments(\n",
        "\n",
        "    output_dir=\"./results\",\n",
        "    eval_strategy=\"epoch\",\n",
        "    logging_strategy=\"epoch\",\n",
        "    save_strategy=\"epoch\",\n",
        "    save_total_limit=2,\n",
        "    logging_steps=100,\n",
        "    eval_steps=200,\n",
        "    save_steps=400,\n",
        "    load_best_model_at_end=True,  # Load best model based on evaluation metric\n",
        "    metric_for_best_model=\"accuracy\",  # Use accuracy to pick the best model\n",
        "    warmup_ratio=0.1, # Warmup steps as a fraction of total steps\n",
        "    lr_scheduler_type=\"cosine\", # Use cosine learning rate schedule\n",
        "    learning_rate=2e-4,  # Initial learning rate\n",
        "    per_device_train_batch_size=16, # Training batch size\n",
        "    per_device_eval_batch_size=64, # Evaluation batch size\n",
        "    num_train_epochs=3, # Number of training epochs\n",
        "    optim=\"adamw_torch\", # Optimizer\n",
        "    weight_decay=0.01, #Weight decay for regularization\n",
        "    logging_dir=\"./logs\",\n",
        "    report_to=\"none\",\n",
        "\n",
        ")\n",
        "\n",
        "# Return a configured Hugging Face Trainer with model and settings\n",
        "def get_trainer(model):\n",
        "      return  Trainer(\n",
        "          model=model,\n",
        "          args=training_args,\n",
        "          compute_metrics=compute_metrics,\n",
        "          train_dataset=train_dataset,\n",
        "          eval_dataset=eval_dataset,\n",
        "          data_collator=data_collator,\n",
        "      )"
      ]
    },
    {
      "cell_type": "code",
      "execution_count": null,
      "id": "ebbc20a2-a1c0-4cb7-b842-f52e4de61ed5",
      "metadata": {
        "execution": {
          "iopub.execute_input": "2025-04-18T23:05:22.770265Z",
          "iopub.status.busy": "2025-04-18T23:05:22.770007Z",
          "iopub.status.idle": "2025-04-18T23:05:26.156764Z",
          "shell.execute_reply": "2025-04-18T23:05:26.155710Z",
          "shell.execute_reply.started": "2025-04-18T23:05:22.770247Z"
        },
        "id": "ebbc20a2-a1c0-4cb7-b842-f52e4de61ed5"
      },
      "outputs": [],
      "source": [
        "\n",
        "!pip install evaluate -q\n",
        "\n",
        "from torch.utils.data import DataLoader\n",
        "import evaluate\n",
        "from tqdm import tqdm\n",
        "\n",
        "# Function to evaluate a model on a given dataset\n",
        "def evaluate_model(model, dataset, labelled=True, batch_size=8, data_collator=None):\n",
        "    # Create a DataLoader for the dataset\n",
        "    dl = DataLoader(dataset, batch_size=batch_size, collate_fn=data_collator)\n",
        "\n",
        "    # Set device to GPU if available, otherwise use CPU\n",
        "    device = torch.device(\"cuda\" if torch.cuda.is_available() else \"cpu\")\n",
        "    model.to(device).eval()\n",
        "\n",
        "    all_logits = []\n",
        "    all_labels = []\n",
        "\n",
        "    # Run inference on batches from the dataloader\n",
        "    for batch in tqdm(dl):\n",
        "        batch = {k: v.to(device) for k, v in batch.items()}\n",
        "        with torch.no_grad():\n",
        "            out = model(**batch)\n",
        "        logits = out.logits.cpu()\n",
        "        all_logits.append(logits)\n",
        "\n",
        "        # Store labels if available\n",
        "        if labelled:\n",
        "            all_labels.append(batch[\"labels\"].cpu())\n",
        "\n",
        "    # Concatenate all logits\n",
        "    all_logits = torch.cat(all_logits, dim=0)\n",
        "\n",
        "    if labelled:\n",
        "        # Concatenate all true labels and calculate accuracy\n",
        "        all_labels = torch.cat(all_labels, dim=0)\n",
        "        preds = all_logits.argmax(dim=-1).numpy()\n",
        "        acc = accuracy_score(all_labels.numpy(), preds)\n",
        "        print(\"Accuracy:\", acc)\n",
        "        return {\"accuracy\": acc}, preds\n",
        "    else:\n",
        "        # Return logits directly if no labels (for ensembling)\n",
        "        return all_logits\n"
      ]
    },
    {
      "cell_type": "markdown",
      "id": "75f39087-f2bb-49d3-9fe1-0d812fb30203",
      "metadata": {
        "id": "75f39087-f2bb-49d3-9fe1-0d812fb30203"
      },
      "source": [
        "### Train and Run Inference"
      ]
    },
    {
      "cell_type": "code",
      "execution_count": null,
      "id": "d1cd1085-ca7f-4731-bb6e-df5375f660c9",
      "metadata": {
        "execution": {
          "iopub.execute_input": "2025-04-18T23:08:50.573412Z",
          "iopub.status.busy": "2025-04-18T23:08:50.572823Z",
          "iopub.status.idle": "2025-04-19T01:56:54.494963Z",
          "shell.execute_reply": "2025-04-19T01:56:54.493610Z",
          "shell.execute_reply.started": "2025-04-18T23:08:50.573368Z"
        },
        "id": "d1cd1085-ca7f-4731-bb6e-df5375f660c9",
        "outputId": "2ea6addc-66a6-43fc-9736-2c7dc4a388bc"
      },
      "outputs": [
        {
          "name": "stderr",
          "output_type": "stream",
          "text": [
            "Some weights of RobertaForSequenceClassification were not initialized from the model checkpoint at roberta-base and are newly initialized: ['classifier.dense.bias', 'classifier.dense.weight', 'classifier.out_proj.bias', 'classifier.out_proj.weight']\n",
            "You should probably TRAIN this model on a down-stream task to be able to use it for predictions and inference.\n",
            "No label_names provided for model class `PeftModelForSequenceClassification`. Since `PeftModel` hides base models input arguments, if label_names is not given, label_names can't be set automatically within `Trainer`. Note that empty label_names list will be used instead.\n",
            "/usr/local/lib/python3.11/dist-packages/torch/nn/parallel/_functions.py:71: UserWarning: Was asked to gather along dimension 0, but all input tensors were scalars; will instead unsqueeze and return a vector.\n",
            "  warnings.warn(\n"
          ]
        },
        {
          "data": {
            "text/html": [
              "\n",
              "    <div>\n",
              "      \n",
              "      <progress value='11190' max='11190' style='width:300px; height:20px; vertical-align: middle;'></progress>\n",
              "      [11190/11190 2:45:56, Epoch 3/3]\n",
              "    </div>\n",
              "    <table border=\"1\" class=\"dataframe\">\n",
              "  <thead>\n",
              " <tr style=\"text-align: left;\">\n",
              "      <th>Epoch</th>\n",
              "      <th>Training Loss</th>\n",
              "      <th>Validation Loss</th>\n",
              "      <th>Accuracy</th>\n",
              "    </tr>\n",
              "  </thead>\n",
              "  <tbody>\n",
              "    <tr>\n",
              "      <td>1</td>\n",
              "      <td>0.296700</td>\n",
              "      <td>0.213844</td>\n",
              "      <td>0.918750</td>\n",
              "    </tr>\n",
              "    <tr>\n",
              "      <td>2</td>\n",
              "      <td>0.175200</td>\n",
              "      <td>0.190328</td>\n",
              "      <td>0.942187</td>\n",
              "    </tr>\n",
              "    <tr>\n",
              "      <td>3</td>\n",
              "      <td>0.151000</td>\n",
              "      <td>0.193946</td>\n",
              "      <td>0.940625</td>\n",
              "    </tr>\n",
              "  </tbody>\n",
              "</table><p>"
            ],
            "text/plain": [
              "<IPython.core.display.HTML object>"
            ]
          },
          "metadata": {},
          "output_type": "display_data"
        },
        {
          "name": "stderr",
          "output_type": "stream",
          "text": [
            "/usr/local/lib/python3.11/dist-packages/torch/nn/parallel/_functions.py:71: UserWarning: Was asked to gather along dimension 0, but all input tensors were scalars; will instead unsqueeze and return a vector.\n",
            "  warnings.warn(\n",
            "/usr/local/lib/python3.11/dist-packages/torch/nn/parallel/_functions.py:71: UserWarning: Was asked to gather along dimension 0, but all input tensors were scalars; will instead unsqueeze and return a vector.\n",
            "  warnings.warn(\n",
            "100%|██████████| 1000/1000 [02:05<00:00,  7.99it/s]\n"
          ]
        },
        {
          "ename": "NameError",
          "evalue": "name 'F' is not defined",
          "output_type": "error",
          "traceback": [
            "\u001b[0;31m---------------------------------------------------------------------------\u001b[0m",
            "\u001b[0;31mNameError\u001b[0m                                 Traceback (most recent call last)",
            "\u001b[0;32m/tmp/ipykernel_31/1419790941.py\u001b[0m in \u001b[0;36m<cell line: 0>\u001b[0;34m()\u001b[0m\n\u001b[1;32m     17\u001b[0m     \u001b[0mlogits\u001b[0m \u001b[0;34m=\u001b[0m \u001b[0mevaluate_model\u001b[0m\u001b[0;34m(\u001b[0m\u001b[0mpeft_model\u001b[0m\u001b[0;34m,\u001b[0m \u001b[0mtest_dataset\u001b[0m\u001b[0;34m,\u001b[0m \u001b[0mlabelled\u001b[0m\u001b[0;34m=\u001b[0m\u001b[0;32mFalse\u001b[0m\u001b[0;34m,\u001b[0m \u001b[0mbatch_size\u001b[0m\u001b[0;34m=\u001b[0m\u001b[0;36m8\u001b[0m\u001b[0;34m,\u001b[0m \u001b[0mdata_collator\u001b[0m\u001b[0;34m=\u001b[0m\u001b[0mdata_collator\u001b[0m\u001b[0;34m)\u001b[0m\u001b[0;34m\u001b[0m\u001b[0;34m\u001b[0m\u001b[0m\n\u001b[1;32m     18\u001b[0m     \u001b[0;31m# convert to probabilities\u001b[0m\u001b[0;34m\u001b[0m\u001b[0;34m\u001b[0m\u001b[0m\n\u001b[0;32m---> 19\u001b[0;31m     \u001b[0mprobs\u001b[0m \u001b[0;34m=\u001b[0m \u001b[0mF\u001b[0m\u001b[0;34m.\u001b[0m\u001b[0msoftmax\u001b[0m\u001b[0;34m(\u001b[0m\u001b[0mlogits\u001b[0m\u001b[0;34m,\u001b[0m \u001b[0mdim\u001b[0m\u001b[0;34m=\u001b[0m\u001b[0;34m-\u001b[0m\u001b[0;36m1\u001b[0m\u001b[0;34m)\u001b[0m\u001b[0;34m.\u001b[0m\u001b[0mnumpy\u001b[0m\u001b[0;34m(\u001b[0m\u001b[0;34m)\u001b[0m\u001b[0;34m\u001b[0m\u001b[0;34m\u001b[0m\u001b[0m\n\u001b[0m\u001b[1;32m     20\u001b[0m     \u001b[0mprobs_list\u001b[0m\u001b[0;34m.\u001b[0m\u001b[0mappend\u001b[0m\u001b[0;34m(\u001b[0m\u001b[0mprobs\u001b[0m\u001b[0;34m)\u001b[0m\u001b[0;34m\u001b[0m\u001b[0;34m\u001b[0m\u001b[0m\n\u001b[1;32m     21\u001b[0m \u001b[0;34m\u001b[0m\u001b[0m\n",
            "\u001b[0;31mNameError\u001b[0m: name 'F' is not defined"
          ]
        }
      ],
      "source": [
        "# Ensemble Inference Section\n",
        "from transformers import set_seed\n",
        "seeds = [42, 123, 999]\n",
        "probs_list = []\n",
        "\n",
        "# Looping construct\n",
        "for seed in seeds:\n",
        "    set_seed(seed)\n",
        "    # re-init & train student\n",
        "    peft_model = get_peft_model(\n",
        "        RobertaForSequenceClassification.from_pretrained(base_model, id2label=id2label),\n",
        "        peft_config\n",
        "    )\n",
        "    trainer = get_trainer(peft_model)\n",
        "    trainer.train()\n",
        "\n",
        "    # get raw logits\n",
        "    logits = evaluate_model(peft_model, test_dataset, labelled=False, batch_size=8, data_collator=data_collator)\n",
        "    # convert to probabilities\n",
        "    probs = F.softmax(logits, dim=-1).numpy()\n",
        "    probs_list.append(probs)\n",
        "\n",
        "\n"
      ]
    },
    {
      "cell_type": "code",
      "execution_count": null,
      "id": "5888dfda-07a4-42a2-9ab1-0d0fc06a3327",
      "metadata": {
        "execution": {
          "iopub.execute_input": "2025-04-19T01:58:04.873860Z",
          "iopub.status.busy": "2025-04-19T01:58:04.873523Z",
          "iopub.status.idle": "2025-04-19T01:58:04.883585Z",
          "shell.execute_reply": "2025-04-19T01:58:04.882744Z",
          "shell.execute_reply.started": "2025-04-19T01:58:04.873831Z"
        },
        "id": "5888dfda-07a4-42a2-9ab1-0d0fc06a3327",
        "outputId": "3c956b03-3889-41ea-8fa1-7ba60642f648"
      },
      "outputs": [
        {
          "name": "stdout",
          "output_type": "stream",
          "text": [
            "[3 0 0 ... 3 0 2]\n"
          ]
        }
      ],
      "source": [
        "import torch.nn.functional as F\n",
        "\n",
        "# Convert logits to probabilities using softmax\n",
        "probs = F.softmax(logits, dim=-1).numpy()\n",
        "probs_list.append(probs)\n",
        "\n",
        "# Average probabilities from multiple models (ensembling)\n",
        "ensemble_probs = np.mean(probs_list, axis=0)\n",
        "\n",
        "# Get final predictions by selecting class with highest probability\n",
        "ensemble_preds = ensemble_probs.argmax(axis=-1)\n",
        "\n",
        "# Print the ensemble predictions\n",
        "print(ensemble_preds)"
      ]
    },
    {
      "cell_type": "code",
      "execution_count": null,
      "id": "b6b68a83-fa89-409d-a58c-7838ea3bf210",
      "metadata": {
        "execution": {
          "iopub.execute_input": "2025-04-18T22:54:02.286365Z",
          "iopub.status.busy": "2025-04-18T22:54:02.285684Z",
          "iopub.status.idle": "2025-04-18T22:56:08.227636Z",
          "shell.execute_reply": "2025-04-18T22:56:08.226850Z",
          "shell.execute_reply.started": "2025-04-18T22:54:02.286334Z"
        },
        "id": "b6b68a83-fa89-409d-a58c-7838ea3bf210",
        "outputId": "78377340-a1f8-4194-ad8c-aec225167900"
      },
      "outputs": [
        {
          "name": "stderr",
          "output_type": "stream",
          "text": [
            "100%|██████████| 1000/1000 [02:05<00:00,  7.94it/s]"
          ]
        },
        {
          "name": "stdout",
          "output_type": "stream",
          "text": [
            "✅ Batched predictions complete. Saved to submission.csv.\n"
          ]
        },
        {
          "name": "stderr",
          "output_type": "stream",
          "text": [
            "\n"
          ]
        }
      ],
      "source": [
        "#Run inference and save predictions\n",
        "preds = evaluate_model(peft_model, test_dataset, False, 8, data_collator)\n",
        "df_output = pd.DataFrame({\n",
        "    'ID': range(len(preds)),\n",
        "    'Label': preds.numpy()\n",
        "})\n",
        "df_output.to_csv(\"submission.csv\", index=False)\n",
        "print(\"✅ Batched predictions complete. Saved to submission.csv.\")"
      ]
    },
    {
      "cell_type": "code",
      "execution_count": null,
      "id": "e60991d3-38b1-4657-8854-408ce66f6b84",
      "metadata": {
        "colab": {
          "base_uri": "https://localhost:8080/"
        },
        "execution": {
          "iopub.execute_input": "2025-04-19T01:59:50.347550Z",
          "iopub.status.busy": "2025-04-19T01:59:50.347067Z",
          "iopub.status.idle": "2025-04-19T01:59:50.360497Z",
          "shell.execute_reply": "2025-04-19T01:59:50.359685Z",
          "shell.execute_reply.started": "2025-04-19T01:59:50.347527Z"
        },
        "id": "e60991d3-38b1-4657-8854-408ce66f6b84",
        "outputId": "12df97a5-6406-4438-e3f4-99129e86c17b"
      },
      "outputs": [
        {
          "name": "stdout",
          "output_type": "stream",
          "text": [
            "Ensemble predictions saved to ensemble_predictions.csv\n"
          ]
        }
      ],
      "source": [
        "import pandas as pd\n",
        "import os\n",
        "\n",
        "# Create a DataFrame with IDs and predicted labels\n",
        "df_output = pd.DataFrame({\n",
        "    'ID': range(len(ensemble_probs)),\n",
        "    'Label': ensemble_preds\n",
        "})\n",
        "\n",
        "# Save the predictions to a CSV file\n",
        "df_output.to_csv(\"submission.csv\", index=False)\n",
        "print(\"Ensemble predictions saved to ensemble_predictions.csv\")\n"
      ]
    },
    {
      "cell_type": "code",
      "execution_count": null,
      "id": "556d370b-4d34-49f2-8384-85b002632547",
      "metadata": {
        "execution": {
          "iopub.execute_input": "2025-04-19T01:58:18.558927Z",
          "iopub.status.busy": "2025-04-19T01:58:18.558342Z",
          "iopub.status.idle": "2025-04-19T01:58:32.331210Z",
          "shell.execute_reply": "2025-04-19T01:58:32.330459Z",
          "shell.execute_reply.started": "2025-04-19T01:58:18.558906Z"
        },
        "id": "556d370b-4d34-49f2-8384-85b002632547",
        "outputId": "5888f4e4-3a76-48cc-8039-05c0969d83d5"
      },
      "outputs": [
        {
          "name": "stderr",
          "output_type": "stream",
          "text": [
            "100%|██████████| 80/80 [00:13<00:00,  5.82it/s]"
          ]
        },
        {
          "name": "stdout",
          "output_type": "stream",
          "text": [
            "Accuracy: 0.9421875\n"
          ]
        },
        {
          "name": "stderr",
          "output_type": "stream",
          "text": [
            "\n"
          ]
        }
      ],
      "source": [
        "# Check evaluation accuracy\n",
        "_, _ = evaluate_model(peft_model, eval_dataset, True, 8, data_collator)"
      ]
    },
    {
      "cell_type": "code",
      "execution_count": null,
      "id": "4403af75-e180-4743-a52e-51363df075e5",
      "metadata": {
        "execution": {
          "iopub.execute_input": "2025-04-19T01:59:53.978363Z",
          "iopub.status.busy": "2025-04-19T01:59:53.977827Z",
          "iopub.status.idle": "2025-04-19T01:59:53.994956Z",
          "shell.execute_reply": "2025-04-19T01:59:53.994172Z",
          "shell.execute_reply.started": "2025-04-19T01:59:53.978340Z"
        },
        "id": "4403af75-e180-4743-a52e-51363df075e5",
        "outputId": "9066d8b2-9ddc-4ce8-84da-52a848b1625b"
      },
      "outputs": [
        {
          "data": {
            "text/html": [
              "<a download=\"data.csv\" href=\"data:text/csv;base64,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\" target=\"_blank\">Download CSV file</a>"
            ],
            "text/plain": [
              "<IPython.core.display.HTML object>"
            ]
          },
          "execution_count": 53,
          "metadata": {},
          "output_type": "execute_result"
        }
      ],
      "source": [
        "from IPython.display import HTML\n",
        "import numpy as np\n",
        "import base64\n",
        "\n",
        "# Function to create a clickable download link for a DataFrame\n",
        "def create_download_link(df, title = \"Download CSV file\", filename = \"data.csv\"):\n",
        "    csv = df.to_csv()\n",
        "    b64 = base64.b64encode(csv.encode())\n",
        "    payload = b64.decode()\n",
        "    html = '<a download=\"{filename}\" href=\"data:text/csv;base64,{payload}\" target=\"_blank\">{title}</a>'\n",
        "    html = html.format(payload=payload,title=title,filename=filename)\n",
        "    return HTML(html)\n",
        "\n",
        "# Generate the download link for the ensemble prediction output\n",
        "create_download_link(df_output)"
      ]
    }
  ],
  "metadata": {
    "accelerator": "GPU",
    "colab": {
      "gpuType": "A100",
      "machine_shape": "hm",
      "provenance": []
    },
    "kaggle": {
      "accelerator": "nvidiaTeslaT4",
      "dataSources": [
        {
          "datasetId": 7174762,
          "sourceId": 11451282,
          "sourceType": "datasetVersion"
        },
        {
          "datasetId": 7185165,
          "sourceId": 11465871,
          "sourceType": "datasetVersion"
        }
      ],
      "dockerImageVersionId": 31011,
      "isGpuEnabled": true,
      "isInternetEnabled": true,
      "language": "python",
      "sourceType": "notebook"
    },
    "kernelspec": {
      "display_name": "Python 3",
      "language": "python",
      "name": "python3"
    },
    "language_info": {
      "codemirror_mode": {
        "name": "ipython",
        "version": 3
      },
      "file_extension": ".py",
      "mimetype": "text/x-python",
      "name": "python",
      "nbconvert_exporter": "python",
      "pygments_lexer": "ipython3",
      "version": "3.11.11"
    }
  },
  "nbformat": 4,
  "nbformat_minor": 5
}